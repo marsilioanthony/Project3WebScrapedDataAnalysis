{
 "cells": [
  {
   "cell_type": "markdown",
   "id": "c9691720",
   "metadata": {},
   "source": [
    "## Anthony Marsilio\n",
    "## Professor Binowski\n",
    "## Data Science Programming 262\n",
    "## April 20th, 2023"
   ]
  },
  {
   "cell_type": "code",
   "execution_count": 1,
   "id": "3201dbd2",
   "metadata": {},
   "outputs": [],
   "source": [
    "import requests as req\n",
    "from bs4 import BeautifulSoup as bs\n",
    "import pandas as pd\n",
    "import matplotlib.pyplot as plt\n",
    "import seaborn as sns\n",
    "import numpy as np"
   ]
  },
  {
   "cell_type": "code",
   "execution_count": 2,
   "id": "24f2357f",
   "metadata": {},
   "outputs": [],
   "source": [
    "## method for requesting data (web-scraping) from football statistics webpage\n",
    "\n",
    "def requestData(url):\n",
    "    r = req.get(url)\n",
    "    page = r.text\n",
    "    return page"
   ]
  },
  {
   "cell_type": "code",
   "execution_count": 3,
   "id": "6f1654ce",
   "metadata": {},
   "outputs": [],
   "source": [
    "## method for converting web-scraping requeslts to a BeautifulSoup format\n",
    "\n",
    "def soupIt(scrape):\n",
    "    soup = bs(scrape)\n",
    "    return soup"
   ]
  },
  {
   "cell_type": "code",
   "execution_count": 4,
   "id": "de465b15",
   "metadata": {},
   "outputs": [],
   "source": [
    "## neccessary team names\n",
    "\n",
    "teamNames = [\"cardinals\",\"bears\",\"packers\",\"giants\",\"lions\",\"redskins\",\"eagles\",\n",
    "             \"steelers\",\"rams\",\"49ers\",\"browns\",\"colts\",\"cowboys\",\"chiefs\",\"chargers\",\n",
    "             \"broncos\",\"jets\",\"patriots\",\"raiders\",\"titans\",\"bills\",\"vikings\",\"falcons\",\n",
    "             \"dolphins\",\"saints\",\"bengals\",\"seahawks\",\"buccaneers\",\"panthers\",\"jaguars\",\n",
    "             \"ravens\",\"texans\"]"
   ]
  },
  {
   "cell_type": "code",
   "execution_count": 5,
   "id": "35c14536",
   "metadata": {},
   "outputs": [],
   "source": [
    "## method that cleans up the souped data, honing in on the useful score data\n",
    "## by selecting a subset of that initial soup of our scrape\n",
    "\n",
    "\n",
    "def getScores(soup):\n",
    "    scores = soup.find_all('table', attrs = {\"width\":\"70%\"})\n",
    "    return scores\n",
    "\n",
    "#stepOne = getScores(souped)"
   ]
  },
  {
   "cell_type": "code",
   "execution_count": 6,
   "id": "d5840618",
   "metadata": {
    "scrolled": false
   },
   "outputs": [],
   "source": [
    "## method, again honing in on our useful score data\n",
    "## again, selecting a subset of that intial soup of our scrape\n",
    "\n",
    "def scrapeCleaner(soup):\n",
    "    scoresString = ''\n",
    "    for elmt in soup:\n",
    "        scoresString += str(elmt)\n",
    "    splitScores = scoresString.split(\"<td>\")\n",
    "\n",
    "    replaced = []\n",
    "    replacedII =[]\n",
    "    replacedIII = []\n",
    "    replacedIV = []\n",
    "    replacedV = []\n",
    "    replacedVI = []\n",
    "    for word in splitScores:\n",
    "        replaced.append(word.replace(\"</td>\", \" \"))\n",
    "    for word in replaced:\n",
    "        replacedII.append(word.replace(\"<tr>\", \" \"))\n",
    "    for word in replacedII:\n",
    "        replacedIII.append(word.replace(\"</tr>\", \" \"))\n",
    "    for word in replacedIII:\n",
    "        replacedIV.append(word.replace(\"\\n\", \" \"))\n",
    "    for word in replacedIV:\n",
    "        replacedV.append(word.replace('<table border=\"0\" cellpadding=\"0\" cellspacing=\"0\" width=\"70%\">', \" \"))\n",
    "    for word in replacedV:\n",
    "        replacedVI.append(word.replace('</table>', \" \"))\n",
    "\n",
    "\n",
    "\n",
    "    \n",
    "    stripped = []\n",
    "    for word in replacedVI:\n",
    "        stripped.append(word.strip())\n",
    "\n",
    "    return stripped\n",
    "\n",
    "#stepTwo = scrapeCleaner(stepOne)"
   ]
  },
  {
   "cell_type": "code",
   "execution_count": 7,
   "id": "b0f1f04b",
   "metadata": {},
   "outputs": [],
   "source": [
    "## method making a list of solely the integer scores (note these integer scores are still technically of STRING type)\n",
    "\n",
    "def intList(teamScoreList):\n",
    "    justScores = []\n",
    "    indi = 0\n",
    "\n",
    "    for elem in teamScoreList:\n",
    "        if elem.lower() in teamNames:\n",
    "            #justScores.append(stripped[indi])\n",
    "            justScores.append(teamScoreList[indi+1])\n",
    "            justScores.append(teamScoreList[indi+2])\n",
    "            justScores.append(teamScoreList[indi+3])\n",
    "            justScores.append(teamScoreList[indi+4])\n",
    "        indi += 1\n",
    "    return justScores\n",
    "\n",
    "#stepThree = intList(stepTwo)\n"
   ]
  },
  {
   "cell_type": "code",
   "execution_count": 8,
   "id": "24eca5d1",
   "metadata": {},
   "outputs": [],
   "source": [
    "## method for identifyinging the ones-place digit of an integer\n",
    "\n",
    "def lastDigit(num):\n",
    "    last_digit = num % 10\n",
    "    return int(last_digit)\n"
   ]
  },
  {
   "cell_type": "code",
   "execution_count": 9,
   "id": "33834004",
   "metadata": {},
   "outputs": [
    {
     "data": {
      "text/plain": [
       "array([[0, 0, 0, 0, 0, 0, 0, 0, 0, 0],\n",
       "       [0, 0, 0, 0, 0, 0, 0, 0, 0, 0],\n",
       "       [0, 0, 0, 0, 0, 0, 0, 0, 0, 0],\n",
       "       [0, 0, 0, 0, 0, 0, 0, 0, 0, 0],\n",
       "       [0, 0, 0, 0, 0, 0, 0, 0, 0, 0],\n",
       "       [0, 0, 0, 0, 0, 0, 0, 0, 0, 0],\n",
       "       [0, 0, 0, 0, 0, 0, 0, 0, 0, 0],\n",
       "       [0, 0, 0, 0, 0, 0, 0, 0, 0, 0],\n",
       "       [0, 0, 0, 0, 0, 0, 0, 0, 0, 0],\n",
       "       [0, 0, 0, 0, 0, 0, 0, 0, 0, 0]])"
      ]
     },
     "execution_count": 9,
     "metadata": {},
     "output_type": "execute_result"
    }
   ],
   "source": [
    "## setting up the array for the rough working heat map\n",
    "\n",
    "bowl1_57 = np.full((10,10), 0)\n",
    "bowl1_57"
   ]
  },
  {
   "cell_type": "code",
   "execution_count": 10,
   "id": "a8fba22f",
   "metadata": {},
   "outputs": [],
   "source": [
    "## method which makes takes an array and adds up a count of instances of\n",
    "## a score being each particular combination\n",
    "\n",
    "\n",
    "def fillArrayQrtOne(listOfScores, array):\n",
    "    indexer = 0\n",
    "    burner = 0\n",
    "    burner2 = 0\n",
    "\n",
    "    while (indexer <= len(listOfScores)-1) and (indexer+4 <= len(listOfScores)-1):\n",
    "        burner = listOfScores[indexer]\n",
    "        burner2 = listOfScores[indexer+4]\n",
    "        indexer += 4\n",
    "        burnY = lastDigit(int(burner))\n",
    "        burnY2 = lastDigit(int(burner2))\n",
    "        array[burnY,burnY2] += 1\n",
    "    \n",
    "    return array\n",
    "\n",
    "\n",
    "def fillArrayQrtTwo(listOfScores, array):\n",
    "    indexer = 1\n",
    "    burner = 0\n",
    "    burner2 = 0\n",
    "\n",
    "    while (indexer <= len(listOfScores)-1) and (indexer+4 <= len(listOfScores)-1):\n",
    "        burner = listOfScores[indexer]\n",
    "        burner2 = listOfScores[indexer+4]\n",
    "        indexer += 4\n",
    "        burnY = lastDigit(int(burner))\n",
    "        burnY2 = lastDigit(int(burner2))\n",
    "        array[burnY,burnY2] += 1\n",
    "    \n",
    "    return array\n",
    "\n",
    "def fillArrayQrtThree(listOfScores, array):\n",
    "    indexer = 2\n",
    "    burner = 0\n",
    "    burner2 = 0\n",
    "\n",
    "    while (indexer <= len(listOfScores)-1) and (indexer+4 <= len(listOfScores)-1):\n",
    "        burner = listOfScores[indexer]\n",
    "        burner2 = listOfScores[indexer+4]\n",
    "        indexer += 4\n",
    "        burnY = lastDigit(int(burner))\n",
    "        burnY2 = lastDigit(int(burner2))\n",
    "        array[burnY,burnY2] += 1\n",
    "    \n",
    "    return array\n",
    "\n",
    "def fillArrayQrtFour(listOfScores, array):\n",
    "    indexer = 3\n",
    "    burner = 0\n",
    "    burner2 = 0\n",
    "\n",
    "    while (indexer <= len(listOfScores)-1) and (indexer+4 <= len(listOfScores)-1):\n",
    "        burner = listOfScores[indexer]\n",
    "        burner2 = listOfScores[indexer+4]\n",
    "        indexer += 4\n",
    "        burnY = lastDigit(int(burner))\n",
    "        burnY2 = lastDigit(int(burner2))\n",
    "        array[burnY,burnY2] += 1\n",
    "    \n",
    "    return array\n",
    "        \n",
    "\n"
   ]
  },
  {
   "cell_type": "code",
   "execution_count": 11,
   "id": "9856eca9",
   "metadata": {},
   "outputs": [],
   "source": [
    "## the list of links containing data for Super Bowl 1-57 linkList = ['https://www.printyourbrackets.com/box-scores-for-super-bowl-1-through-10.html',\n",
    "linkList = ['https://www.printyourbrackets.com/box-scores-for-super-bowl-11-through-20.html',\n",
    "            'https://www.printyourbrackets.com/box-scores-for-super-bowl-21-through-30.html',\n",
    "            'https://www.printyourbrackets.com/box-scores-for-super-bowl-31-through-40.html',\n",
    "            'https://www.printyourbrackets.com/box-scores-for-super-bowl-41-through-50.html',\n",
    "            'https://www.printyourbrackets.com/box-scores-for-super-bowl-51-through-60.html']"
   ]
  },
  {
   "cell_type": "code",
   "execution_count": 12,
   "id": "0c3e142c",
   "metadata": {},
   "outputs": [],
   "source": [
    "## pass complete list of links and this returns a list of integer scores\n",
    "def totalScrape(linkList):\n",
    "    totalIntList = []\n",
    "    for link in linkList:\n",
    "        scrape = requestData(link)\n",
    "        souped = soupIt(scrape)\n",
    "        stepOne = getScores(souped)\n",
    "        stepTwo = scrapeCleaner(stepOne)\n",
    "        totalIntList.extend(intList(stepTwo))\n",
    "    return totalIntList\n",
    "\n",
    "\n",
    "## fill array with quarter one scores\n",
    "def qtrOneMethod(linkList, array):\n",
    "    \n",
    "    filledArray = fillArray(linkList, array)\n",
    "    return filledArray\n",
    "\n",
    "## FINAL RUN\n",
    "\n",
    "listOfScores = totalScrape(linkList)\n",
    "bowl1_57 = fillArrayQrtOne(listOfScores, bowl1_57)\n",
    "bowl1_57 = fillArrayQrtTwo(listOfScores, bowl1_57)\n",
    "bowl1_57 = fillArrayQrtThree(listOfScores, bowl1_57)\n",
    "bowl1_57 = fillArrayQrtFour(listOfScores, bowl1_57)\n",
    "\n",
    "\n"
   ]
  },
  {
   "cell_type": "code",
   "execution_count": 13,
   "id": "13e4a558",
   "metadata": {
    "scrolled": false
   },
   "outputs": [
    {
     "name": "stdout",
     "output_type": "stream",
     "text": [
      "AxesSubplot(0.125,0.11;0.62x0.77)\n"
     ]
    },
    {
     "data": {
      "image/png": "[encoded data removed]",
      "text/plain": [
       "<Figure size 640x480 with 2 Axes>"
      ]
     },
     "metadata": {},
     "output_type": "display_data"
    }
   ],
   "source": [
    "## here, just taking a progress check\n",
    "\n",
    "grap = sns.heatmap(bowl1_57, annot= True)\n",
    "\n",
    "grap.xaxis.tick_top()\n",
    "print(grap)"
   ]
  },
  {
   "cell_type": "markdown",
   "id": "bd430cd9",
   "metadata": {},
   "source": [
    "## \n",
    "## \n",
    "\n",
    "## The key chart for this data science analysis is below. That is, a frequency heat map of end-of-quarter winning box locations. \n",
    "\n",
    "## It's immediately apparent that there is a big disparity in frequency. Obviously 0, 3, and 7 are hot numbers to select for a winning-chance."
   ]
  },
  {
   "cell_type": "code",
   "execution_count": 14,
   "id": "7f563f3b",
   "metadata": {
    "scrolled": false
   },
   "outputs": [
    {
     "name": "stdout",
     "output_type": "stream",
     "text": [
      "AxesSubplot(0.125,0.11;0.775x0.77)\n"
     ]
    },
    {
     "data": {
      "image/png": "[encoded data removed]",
      "text/plain": [
       "<Figure size 640x480 with 1 Axes>"
      ]
     },
     "metadata": {},
     "output_type": "display_data"
    }
   ],
   "source": [
    "percentArray = bowl1_57 ## saving work in an intermediate step\n",
    "percentArrayCopy = percentArray / percentArray.sum() ## transfroming array into a structure about proportions\n",
    "\n",
    "\n",
    "## creating heat map\n",
    "grap2 = sns.heatmap(percentArrayCopy, \n",
    "                    annot= True, \n",
    "                    fmt=\".2%\", \n",
    "                    annot_kws = {'fontsize':8},\n",
    "                    linewidth=1,\n",
    "                    cbar = False, \n",
    "                    cmap = \"Blues\")\n",
    "\n",
    "\n",
    "grap2.set_title(\"Superbowl Gambling: Boxes That Pay\",fontsize = 10)\n",
    "grap2.set_xlabel(\"Winning Digit\",fontsize=12)\n",
    "grap2.set_ylabel(\"Winning Digit\",fontsize=12)\n",
    "\n",
    "grap2.xaxis.set_label_position('top')\n",
    "\n",
    "\n",
    "grap2.tick_params(axis='both', which='major', labelsize=15, \n",
    "                  labelbottom = False, bottom=False, \n",
    "                  top = False, labeltop=True, \n",
    "                  labelleft = True, left = False)\n",
    "\n",
    "\n",
    "print(grap2)"
   ]
  },
  {
   "cell_type": "markdown",
   "id": "570800b0",
   "metadata": {},
   "source": [
    "## \n",
    "## here, methods which compute the average combined score (score of Team A + score of Team B) across 1st, 2nd, 3rd, and 4th quarters:"
   ]
  },
  {
   "cell_type": "markdown",
   "id": "b2f6e4f6",
   "metadata": {},
   "source": [
    "## (note: Q2, Q3, and Q4 methods build off of the Q1 method by just referencing additional list items in our data and summing them into the figure used for the average)"
   ]
  },
  {
   "cell_type": "code",
   "execution_count": 15,
   "id": "c2435f14",
   "metadata": {},
   "outputs": [
    {
     "data": {
      "text/plain": [
       "9.053763440860216"
      ]
     },
     "execution_count": 15,
     "metadata": {},
     "output_type": "execute_result"
    }
   ],
   "source": [
    "def qtrOneAverageScore(listOfScores):\n",
    "    indexer = 0\n",
    "    count = 0\n",
    "    scoreSum = 0\n",
    "\n",
    "    while indexer <= (len(listOfScores)-1):\n",
    "        scoreSum += int(listOfScores[indexer])\n",
    "        indexer += 4\n",
    "        count += 1\n",
    "        \n",
    "    avgGameScore = scoreSum / (count/2)\n",
    "    return avgGameScore\n",
    "\n",
    "qtrOneAverageScore(listOfScores)"
   ]
  },
  {
   "cell_type": "code",
   "execution_count": 16,
   "id": "33742443",
   "metadata": {},
   "outputs": [
    {
     "data": {
      "text/plain": [
       "23.13978494623656"
      ]
     },
     "execution_count": 16,
     "metadata": {},
     "output_type": "execute_result"
    }
   ],
   "source": [
    "def qtrTwoAverageScore(listOfScores):\n",
    "    indexer = 0\n",
    "    indexer2 = 1\n",
    "    count = 0\n",
    "    qOneSum = 0\n",
    "    qTwoSum = 0\n",
    "    totalSum = 0\n",
    "\n",
    "    while indexer <= ((len(listOfScores)-1)):\n",
    "        qOneSum += int(listOfScores[indexer])\n",
    "        indexer += 4\n",
    "\n",
    "    while indexer2 <= ((len(listOfScores)-1)):\n",
    "        qTwoSum += int(listOfScores[indexer2])\n",
    "        indexer2 += 4\n",
    "        count += 1\n",
    "    \n",
    "    totalSum = qOneSum + qTwoSum\n",
    "    avgGameScore = totalSum / (count/2)\n",
    "    \n",
    "    return avgGameScore\n",
    "\n",
    "qtrTwoAverageScore(listOfScores)"
   ]
  },
  {
   "cell_type": "code",
   "execution_count": 17,
   "id": "a155f343",
   "metadata": {},
   "outputs": [
    {
     "data": {
      "text/plain": [
       "34.75268817204301"
      ]
     },
     "execution_count": 17,
     "metadata": {},
     "output_type": "execute_result"
    }
   ],
   "source": [
    "def qtrThreeAverageScore(listOfScores):\n",
    "    indexer = 0\n",
    "    indexer2 = 1\n",
    "    indexer3 = 2\n",
    "    count = 0\n",
    "    qOneSum = 0\n",
    "    qTwoSum = 0\n",
    "    qThreeSum = 0\n",
    "    totalSum = 0\n",
    "    \n",
    "    while indexer <= ((len(listOfScores)-1)):\n",
    "        qOneSum += int(listOfScores[indexer])\n",
    "        indexer += 4\n",
    "\n",
    "    while indexer2 <= ((len(listOfScores)-1)):\n",
    "        qTwoSum += int(listOfScores[indexer2])\n",
    "        indexer2 += 4\n",
    "\n",
    "    while indexer3 <= ((len(listOfScores)-1)):\n",
    "        qThreeSum += int(listOfScores[indexer3])\n",
    "        indexer3 += 4\n",
    "        count += 1\n",
    "    totalSum = (qOneSum + qTwoSum + qThreeSum)\n",
    "    avgGameScore = totalSum / (count/2)\n",
    "    \n",
    "    return avgGameScore\n",
    "\n",
    "qtrThreeAverageScore(listOfScores)"
   ]
  },
  {
   "cell_type": "code",
   "execution_count": 18,
   "id": "505e212f",
   "metadata": {
    "scrolled": true
   },
   "outputs": [
    {
     "data": {
      "text/plain": [
       "49.61290322580645"
      ]
     },
     "execution_count": 18,
     "metadata": {},
     "output_type": "execute_result"
    }
   ],
   "source": [
    "def qtrFourAverageScore(listOfScores):\n",
    "    indexer = 0\n",
    "    indexer2 = 1\n",
    "    indexer3 = 2\n",
    "    indexer4 = 3\n",
    "    count = 0\n",
    "    qOneSum = 0\n",
    "    qTwoSum = 0\n",
    "    qThreeSum = 0\n",
    "    qFourSum = 0\n",
    "    totalSum = 0\n",
    "    \n",
    "    while indexer <= ((len(listOfScores)-1)):\n",
    "        qOneSum += int(listOfScores[indexer])\n",
    "        indexer += 4\n",
    "\n",
    "    while indexer2 <= ((len(listOfScores)-1)):\n",
    "        qTwoSum += int(listOfScores[indexer2])\n",
    "        indexer2 += 4\n",
    "\n",
    "    while indexer3 <= ((len(listOfScores)-1)):\n",
    "        qThreeSum += int(listOfScores[indexer3])\n",
    "        indexer3 += 4\n",
    "        \n",
    "    while indexer4 <= ((len(listOfScores)-1)):\n",
    "        qFourSum += int(listOfScores[indexer4])\n",
    "        indexer4 += 4\n",
    "        count += 1\n",
    "        \n",
    "    totalSum = (qOneSum + qTwoSum + qThreeSum + qFourSum)\n",
    "    avgGameScore = totalSum / (count/2)\n",
    "    \n",
    "    return avgGameScore\n",
    "\n",
    "qtrFourAverageScore(listOfScores)"
   ]
  },
  {
   "cell_type": "markdown",
   "id": "f7d32399",
   "metadata": {},
   "source": [
    "## \n",
    "\n",
    "\n",
    "\n",
    "## the following chart displays the average Combined Score (score of Team A + score of Team B) at End-of-quarter for all 57 Super Bowls. \n",
    "\n",
    "## We can observe that at half-time there is typically a combined score of about 20 points, and games usually climb to about 45 points for the final."
   ]
  },
  {
   "cell_type": "code",
   "execution_count": 19,
   "id": "fdffe466",
   "metadata": {},
   "outputs": [
    {
     "data": {
      "text/html": [
       "<div>\n",
       "<style scoped>\n",
       "    .dataframe tbody tr th:only-of-type {\n",
       "        vertical-align: middle;\n",
       "    }\n",
       "\n",
       "    .dataframe tbody tr th {\n",
       "        vertical-align: top;\n",
       "    }\n",
       "\n",
       "    .dataframe thead th {\n",
       "        text-align: right;\n",
       "    }\n",
       "</style>\n",
       "<table border=\"1\" class=\"dataframe\">\n",
       "  <thead>\n",
       "    <tr style=\"text-align: right;\">\n",
       "      <th></th>\n",
       "      <th>Quarter 1</th>\n",
       "      <th>Quarter 2</th>\n",
       "      <th>Quarter 3</th>\n",
       "      <th>Quarter 4</th>\n",
       "    </tr>\n",
       "  </thead>\n",
       "  <tbody>\n",
       "    <tr>\n",
       "      <th>0</th>\n",
       "      <td>9.053763</td>\n",
       "      <td>23.139785</td>\n",
       "      <td>34.752688</td>\n",
       "      <td>49.612903</td>\n",
       "    </tr>\n",
       "  </tbody>\n",
       "</table>\n",
       "</div>"
      ],
      "text/plain": [
       "   Quarter 1  Quarter 2  Quarter 3  Quarter 4\n",
       "0   9.053763  23.139785  34.752688  49.612903"
      ]
     },
     "execution_count": 19,
     "metadata": {},
     "output_type": "execute_result"
    }
   ],
   "source": [
    "## making a dataframe for the purpose of graphing with seaborn\n",
    "\n",
    "d = {'Quarter 1': [qtrOneAverageScore(listOfScores)], 'Quarter 2': [qtrTwoAverageScore(listOfScores)],\n",
    "     'Quarter 3': [qtrThreeAverageScore(listOfScores)], 'Quarter 4': [qtrFourAverageScore(listOfScores)]}\n",
    "\n",
    "df = pd.DataFrame(data=d)\n",
    "\n",
    "df"
   ]
  },
  {
   "cell_type": "code",
   "execution_count": 20,
   "id": "2895f046",
   "metadata": {
    "scrolled": false
   },
   "outputs": [
    {
     "data": {
      "text/plain": [
       "Text(0, 0.5, 'Combined Score at End-of-quarter')"
      ]
     },
     "execution_count": 20,
     "metadata": {},
     "output_type": "execute_result"
    },
    {
     "data": {
      "image/png": "[encoded data removed]",
      "text/plain": [
       "<Figure size 640x480 with 1 Axes>"
      ]
     },
     "metadata": {},
     "output_type": "display_data"
    }
   ],
   "source": [
    "## graphing the above df with seaborn\n",
    "g = sns.barplot(\n",
    "    data=df)\n",
    "g.set_title('Combined Score of Super Bowl Games',fontsize = 15)\n",
    "g.set_ylabel('Combined Score at End-of-quarter',fontsize=12)"
   ]
  },
  {
   "cell_type": "markdown",
   "id": "45b6f1da",
   "metadata": {},
   "source": [
    "## \n",
    "## \n",
    "\n",
    "## how often is the end-of-quarter score of each team even and how often is it odd?\n"
   ]
  },
  {
   "cell_type": "code",
   "execution_count": 21,
   "id": "572cb22c",
   "metadata": {},
   "outputs": [],
   "source": [
    "## the even odd digit calculator\n",
    "\n",
    "def isEven(num):\n",
    "    var = True\n",
    "    if num % 2 == 0:\n",
    "        var = True\n",
    "    else:\n",
    "        var = False\n",
    "    return var"
   ]
  },
  {
   "cell_type": "code",
   "execution_count": 22,
   "id": "bee4e411",
   "metadata": {},
   "outputs": [
    {
     "data": {
      "text/plain": [
       "array([[211, 157]])"
      ]
     },
     "execution_count": 22,
     "metadata": {},
     "output_type": "execute_result"
    }
   ],
   "source": [
    "parity = np.full((1,2), 0) ## making the array to be filled with our data\n",
    "\n",
    "\n",
    "## the below methods take a look at the score of each game for each team, at the end\n",
    "## of each quarter, and in each of those steps determines if that score is even or odd\n",
    "def parityCalcQrtOne(listOfScores, array):\n",
    "    indexer = 0\n",
    "    burner = 0\n",
    "    burner2 = 0\n",
    "    score = 0\n",
    "    score2 =0\n",
    "\n",
    "    while (indexer <= len(listOfScores)-1) and (indexer+4 <= len(listOfScores)-1):\n",
    "        burner = listOfScores[indexer]\n",
    "        burner2 = listOfScores[indexer+4]\n",
    "        indexer += 4\n",
    "        burnY = lastDigit(int(burner))\n",
    "        burnY2 = lastDigit(int(burner2))\n",
    "        \n",
    "        \n",
    "        if isEven(burnY):\n",
    "            array[0,0] += 1\n",
    "        else:\n",
    "            array[0,1] += 1\n",
    "        \n",
    "    \n",
    "    return array\n",
    "\n",
    "def parityCalcQrtTwo(listOfScores, array):\n",
    "    indexer = 1\n",
    "    burner = 0\n",
    "    burner2 = 0\n",
    "    score = 0\n",
    "    score2 =0\n",
    "\n",
    "    while (indexer <= len(listOfScores)-1) and (indexer+4 <= len(listOfScores)-1):\n",
    "        burner = listOfScores[indexer]\n",
    "        burner2 = listOfScores[indexer+4]\n",
    "        indexer += 4\n",
    "        burnY = lastDigit(int(burner))\n",
    "        burnY2 = lastDigit(int(burner2))\n",
    "        \n",
    "        \n",
    "        if isEven(burnY):\n",
    "            array[0,0] += 1\n",
    "        else:\n",
    "            array[0,1] += 1\n",
    "        \n",
    "    \n",
    "    return array\n",
    "\n",
    "def parityCalcQrtThree(listOfScores, array):\n",
    "    indexer = 2\n",
    "    burner = 0\n",
    "    burner2 = 0\n",
    "    score = 0\n",
    "    score2 =0\n",
    "\n",
    "    while (indexer <= len(listOfScores)-1) and (indexer+4 <= len(listOfScores)-1):\n",
    "        burner = listOfScores[indexer]\n",
    "        burner2 = listOfScores[indexer+4]\n",
    "        indexer += 4\n",
    "        burnY = lastDigit(int(burner))\n",
    "        burnY2 = lastDigit(int(burner2))\n",
    "        \n",
    "        \n",
    "        if isEven(burnY):\n",
    "            array[0,0] += 1\n",
    "        else:\n",
    "            array[0,1] += 1\n",
    "        \n",
    "    \n",
    "    return array\n",
    "\n",
    "def parityCalcQrtFour(listOfScores, array):\n",
    "    indexer = 3\n",
    "    burner = 0\n",
    "    burner2 = 0\n",
    "    score = 0\n",
    "    score2 =0\n",
    "\n",
    "    while (indexer <= len(listOfScores)-1) and (indexer+4 <= len(listOfScores)-1):\n",
    "        burner = listOfScores[indexer]\n",
    "        burner2 = listOfScores[indexer+4]\n",
    "        indexer += 4\n",
    "        burnY = lastDigit(int(burner))\n",
    "        burnY2 = lastDigit(int(burner2))\n",
    "        \n",
    "        \n",
    "        if isEven(burnY):\n",
    "            array[0,0] += 1\n",
    "        else:\n",
    "            array[0,1] += 1\n",
    "        \n",
    "    \n",
    "    return array\n",
    "\n",
    "parityCalcQrtOne(listOfScores, parity)\n",
    "parityCalcQrtTwo(listOfScores, parity)\n",
    "parityCalcQrtThree(listOfScores, parity)\n",
    "parityCalcQrtFour(listOfScores, parity)"
   ]
  },
  {
   "cell_type": "code",
   "execution_count": 23,
   "id": "361f07fe",
   "metadata": {},
   "outputs": [],
   "source": [
    "## using the parity array to fill an even and odd variable\n",
    "even = parity[0,0]\n",
    "odd = parity[0,1]"
   ]
  },
  {
   "cell_type": "code",
   "execution_count": 24,
   "id": "ff78a700",
   "metadata": {},
   "outputs": [
    {
     "data": {
      "text/html": [
       "<div>\n",
       "<style scoped>\n",
       "    .dataframe tbody tr th:only-of-type {\n",
       "        vertical-align: middle;\n",
       "    }\n",
       "\n",
       "    .dataframe tbody tr th {\n",
       "        vertical-align: top;\n",
       "    }\n",
       "\n",
       "    .dataframe thead th {\n",
       "        text-align: right;\n",
       "    }\n",
       "</style>\n",
       "<table border=\"1\" class=\"dataframe\">\n",
       "  <thead>\n",
       "    <tr style=\"text-align: right;\">\n",
       "      <th></th>\n",
       "      <th>Even</th>\n",
       "      <th>Odd</th>\n",
       "    </tr>\n",
       "  </thead>\n",
       "  <tbody>\n",
       "    <tr>\n",
       "      <th>0</th>\n",
       "      <td>211</td>\n",
       "      <td>157</td>\n",
       "    </tr>\n",
       "  </tbody>\n",
       "</table>\n",
       "</div>"
      ],
      "text/plain": [
       "   Even  Odd\n",
       "0   211  157"
      ]
     },
     "execution_count": 24,
     "metadata": {},
     "output_type": "execute_result"
    }
   ],
   "source": [
    "## creating a data frame for plotting on a sea born chart\n",
    "\n",
    "d2 = {'Even': [even], 'Odd': [odd]}\n",
    "\n",
    "evenOdd = pd.DataFrame(data= d2)\n",
    "\n",
    "evenOdd"
   ]
  },
  {
   "cell_type": "code",
   "execution_count": 25,
   "id": "ba72b3d5",
   "metadata": {},
   "outputs": [
    {
     "data": {
      "text/plain": [
       "Text(0, 0.5, 'Count of Scores With Even or Odd Digit')"
      ]
     },
     "execution_count": 25,
     "metadata": {},
     "output_type": "execute_result"
    },
    {
     "data": {
      "image/png": "[encoded data removed]",
      "text/plain": [
       "<Figure size 640x480 with 1 Axes>"
      ]
     },
     "metadata": {},
     "output_type": "display_data"
    }
   ],
   "source": [
    "## graphing with seaborn\n",
    "\n",
    "g = sns.barplot(\n",
    "    data=evenOdd)\n",
    "g.set_title('Do Quarters\\' Score End With Even or Odd Digits?',fontsize = 15)\n",
    "g.set_ylabel('Count of Scores With Even or Odd Digit',fontsize=12)"
   ]
  },
  {
   "cell_type": "markdown",
   "id": "eeda28d0",
   "metadata": {},
   "source": [
    "## \n",
    "\n",
    "\n",
    "## as seen above, even digits lead the count by a significant margin."
   ]
  },
  {
   "cell_type": "markdown",
   "id": "2b4add7c",
   "metadata": {},
   "source": [
    "## "
   ]
  },
  {
   "cell_type": "markdown",
   "id": "31af6b55",
   "metadata": {},
   "source": [
    "## Finally, we will take a look at what the average number of total game points scored per quarter in any given quarter across the Super Bowl history:"
   ]
  },
  {
   "cell_type": "code",
   "execution_count": 26,
   "id": "6f0ff8cc",
   "metadata": {},
   "outputs": [],
   "source": [
    "## setting up variables to hold our data\n",
    "scor = 0\n",
    "scor2 = 0\n",
    "scor3 = 0\n",
    "scor4 = 0\n",
    "\n",
    "scor = qtrOneAverageScore(listOfScores)\n",
    "scor2 = qtrTwoAverageScore(listOfScores) - qtrOneAverageScore(listOfScores)\n",
    "scor3 = qtrThreeAverageScore(listOfScores) - qtrTwoAverageScore(listOfScores)\n",
    "scor4 = qtrFourAverageScore(listOfScores) - qtrThreeAverageScore(listOfScores)"
   ]
  },
  {
   "cell_type": "code",
   "execution_count": 27,
   "id": "9a395c1d",
   "metadata": {},
   "outputs": [
    {
     "data": {
      "text/html": [
       "<div>\n",
       "<style scoped>\n",
       "    .dataframe tbody tr th:only-of-type {\n",
       "        vertical-align: middle;\n",
       "    }\n",
       "\n",
       "    .dataframe tbody tr th {\n",
       "        vertical-align: top;\n",
       "    }\n",
       "\n",
       "    .dataframe thead th {\n",
       "        text-align: right;\n",
       "    }\n",
       "</style>\n",
       "<table border=\"1\" class=\"dataframe\">\n",
       "  <thead>\n",
       "    <tr style=\"text-align: right;\">\n",
       "      <th></th>\n",
       "      <th>Quarter One</th>\n",
       "      <th>Quarter Two</th>\n",
       "      <th>Quarter Three</th>\n",
       "      <th>Quarter Four</th>\n",
       "    </tr>\n",
       "  </thead>\n",
       "  <tbody>\n",
       "    <tr>\n",
       "      <th>0</th>\n",
       "      <td>9.053763</td>\n",
       "      <td>14.086022</td>\n",
       "      <td>11.612903</td>\n",
       "      <td>14.860215</td>\n",
       "    </tr>\n",
       "  </tbody>\n",
       "</table>\n",
       "</div>"
      ],
      "text/plain": [
       "   Quarter One  Quarter Two  Quarter Three  Quarter Four\n",
       "0     9.053763    14.086022      11.612903     14.860215"
      ]
     },
     "execution_count": 27,
     "metadata": {},
     "output_type": "execute_result"
    }
   ],
   "source": [
    "## making a data frame for the average total-game quarterly point game\n",
    "\n",
    "d3 = {'Quarter One': [scor], 'Quarter Two': [scor2],\n",
    "      'Quarter Three' : [scor3], 'Quarter Four' : [scor4]}\n",
    "\n",
    "quarters = pd.DataFrame(data= d3)\n",
    "\n",
    "quarters"
   ]
  },
  {
   "cell_type": "code",
   "execution_count": 28,
   "id": "7e5ceb2b",
   "metadata": {},
   "outputs": [
    {
     "data": {
      "text/plain": [
       "Text(0, 0.5, 'Total Game Count of Scores')"
      ]
     },
     "execution_count": 28,
     "metadata": {},
     "output_type": "execute_result"
    },
    {
     "data": {
      "image/png": "[encoded data removed]",
      "text/plain": [
       "<Figure size 640x480 with 1 Axes>"
      ]
     },
     "metadata": {},
     "output_type": "display_data"
    }
   ],
   "source": [
    "## graphing with with seaborn with the above dataframe\n",
    "\n",
    "g = sns.barplot(\n",
    "    data=quarters)\n",
    "g.set_title('How Many Total Game Points are Scored Per Quarter?',fontsize = 15)\n",
    "g.set_ylabel('Total Game Count of Scores',fontsize=12)"
   ]
  },
  {
   "cell_type": "markdown",
   "id": "838e63a1",
   "metadata": {},
   "source": [
    "## above we can see that the number of points scored by both teams during the average quarter has little deviation. If divided by two, it seems to suggest each team scores a touchdown + extra point per quarter. Of course this will vary greatly from game to game and is a mild observation."
   ]
  }
 ],
 "metadata": {
  "kernelspec": {
   "display_name": "Python 3 (ipykernel)",
   "language": "python",
   "name": "python3"
  },
  "language_info": {
   "codemirror_mode": {
    "name": "ipython",
    "version": 3
   },
   "file_extension": ".py",
   "mimetype": "text/x-python",
   "name": "python",
   "nbconvert_exporter": "python",
   "pygments_lexer": "ipython3",
   "version": "3.9.13"
  }
 },
 "nbformat": 4,
 "nbformat_minor": 5
}
